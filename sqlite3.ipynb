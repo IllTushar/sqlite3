{
 "cells": [
  {
   "cell_type": "code",
   "execution_count": 1,
   "id": "e49300a8-ea0c-4271-8a22-c377ce986006",
   "metadata": {},
   "outputs": [],
   "source": [
    "import sqlite3"
   ]
  },
  {
   "cell_type": "code",
   "execution_count": 3,
   "id": "c083e4cd-f028-472a-a213-498667b66512",
   "metadata": {},
   "outputs": [],
   "source": [
    "connection = sqlite3.connect(\"example.db\")"
   ]
  },
  {
   "cell_type": "code",
   "execution_count": 4,
   "id": "a6ddd69e-9802-4cbd-923c-201b2dd4a869",
   "metadata": {},
   "outputs": [
    {
     "data": {
      "text/plain": [
       "<sqlite3.Connection at 0x1f1de5b1d50>"
      ]
     },
     "execution_count": 4,
     "metadata": {},
     "output_type": "execute_result"
    }
   ],
   "source": [
    "connection"
   ]
  },
  {
   "cell_type": "code",
   "execution_count": 5,
   "id": "be7b365a-bf3e-417c-80a9-068a8e25cbf5",
   "metadata": {},
   "outputs": [],
   "source": [
    "cursor = connection.cursor()"
   ]
  },
  {
   "cell_type": "code",
   "execution_count": 15,
   "id": "1f97395e-0bf2-4d81-8f79-6010e86a3b67",
   "metadata": {},
   "outputs": [
    {
     "data": {
      "text/plain": [
       "<sqlite3.Cursor at 0x1f1df456c40>"
      ]
     },
     "execution_count": 15,
     "metadata": {},
     "output_type": "execute_result"
    }
   ],
   "source": [
    "cursor.execute('''\n",
    "CREATE TABLE EMPLOYEE(\n",
    "id Integer Primary key AUTOINCREMENT,\n",
    "name Varchar(100) Not Null,\n",
    "age Integer Not Null,\n",
    "department Varchar(100) Not Null\n",
    ");\n",
    "''')"
   ]
  },
  {
   "cell_type": "code",
   "execution_count": 16,
   "id": "31a8db5f-4081-4dd6-93cb-e5ca0601781d",
   "metadata": {},
   "outputs": [],
   "source": [
    "connection.commit()"
   ]
  },
  {
   "cell_type": "code",
   "execution_count": 50,
   "id": "76e50f7b-de42-4a75-a592-d4efcf6122d7",
   "metadata": {},
   "outputs": [],
   "source": [
    "entries = [\n",
    "    ('Rohit',24,'Data Scinteist'),\n",
    "    (\"Dhruv\",25,\"Analysist\"),\n",
    "    (\"Krish\",21,\"Developer\")\n",
    "]"
   ]
  },
  {
   "cell_type": "code",
   "execution_count": 51,
   "id": "ac6bdf5f-bba2-482c-8a51-b759a433c241",
   "metadata": {},
   "outputs": [
    {
     "data": {
      "text/plain": [
       "<sqlite3.Cursor at 0x1f1df456c40>"
      ]
     },
     "execution_count": 51,
     "metadata": {},
     "output_type": "execute_result"
    }
   ],
   "source": [
    "## insert multiple values\n",
    "cursor.executemany('''\n",
    "Insert into EMPLOYEE (name,age,department) values(?,?,?)\n",
    "''',entries)"
   ]
  },
  {
   "cell_type": "code",
   "execution_count": 52,
   "id": "b8a26146-63f3-4ebf-a745-de969fb8b6fb",
   "metadata": {},
   "outputs": [],
   "source": [
    "connection.commit()"
   ]
  },
  {
   "cell_type": "code",
   "execution_count": 53,
   "id": "fc550b18-89a4-4903-b3ef-f47a98f069f9",
   "metadata": {},
   "outputs": [
    {
     "data": {
      "text/plain": [
       "<sqlite3.Cursor at 0x1f1df456c40>"
      ]
     },
     "execution_count": 53,
     "metadata": {},
     "output_type": "execute_result"
    }
   ],
   "source": [
    "cursor.execute('''Select * from EMPLOYEE''')"
   ]
  },
  {
   "cell_type": "code",
   "execution_count": 54,
   "id": "05cb31f4-2018-491b-858b-a96a32d143d1",
   "metadata": {},
   "outputs": [],
   "source": [
    "rows = cursor.fetchall()"
   ]
  },
  {
   "cell_type": "code",
   "execution_count": 55,
   "id": "15419ce0-0f08-4a69-a0a5-68e4d473cc31",
   "metadata": {},
   "outputs": [
    {
     "name": "stdout",
     "output_type": "stream",
     "text": [
      "(1, 'Tushar', 24, 'Data Scinteist')\n",
      "(2, 'Aman', 25, 'Analysist')\n",
      "(3, 'Rohan', 21, 'Developer')\n",
      "(5, 'Dhruv', 25, 'Analysist')\n",
      "(6, 'Krish', 21, 'Developer')\n",
      "(7, 'Rohit', 24, 'Data Scinteist')\n",
      "(8, 'Dhruv', 25, 'Analysist')\n",
      "(9, 'Krish', 21, 'Developer')\n"
     ]
    }
   ],
   "source": [
    "for row in rows:\n",
    "    print(row)"
   ]
  },
  {
   "cell_type": "code",
   "execution_count": 56,
   "id": "0c4819b5-aef4-4408-9646-79af0634bbea",
   "metadata": {},
   "outputs": [
    {
     "data": {
      "text/plain": [
       "<sqlite3.Cursor at 0x1f1df456c40>"
      ]
     },
     "execution_count": 56,
     "metadata": {},
     "output_type": "execute_result"
    }
   ],
   "source": [
    "## update the row\n",
    "cursor.execute('''Update EMPLOYEE set name = \"Rohit\" where id = 4''')"
   ]
  },
  {
   "cell_type": "code",
   "execution_count": 57,
   "id": "560902e3-9c22-4f8a-840e-3f5598044212",
   "metadata": {},
   "outputs": [],
   "source": [
    "connection.commit()"
   ]
  },
  {
   "cell_type": "code",
   "execution_count": 58,
   "id": "a546f465-a46e-4bbc-90a2-0e54568a6b3b",
   "metadata": {},
   "outputs": [
    {
     "data": {
      "text/plain": [
       "<sqlite3.Cursor at 0x1f1df456c40>"
      ]
     },
     "execution_count": 58,
     "metadata": {},
     "output_type": "execute_result"
    }
   ],
   "source": [
    "cursor.execute('''Delete  FROM EMPLOYEE where id =5''')"
   ]
  },
  {
   "cell_type": "code",
   "execution_count": 60,
   "id": "cc886796-4281-45f6-9ad3-ce2cc4837a69",
   "metadata": {},
   "outputs": [],
   "source": [
    "connection.commit()"
   ]
  },
  {
   "cell_type": "code",
   "execution_count": null,
   "id": "72a6d62d-34f9-4b64-a999-b9ecd7e52f19",
   "metadata": {},
   "outputs": [],
   "source": []
  }
 ],
 "metadata": {
  "kernelspec": {
   "display_name": "Python 3 (ipykernel)",
   "language": "python",
   "name": "python3"
  },
  "language_info": {
   "codemirror_mode": {
    "name": "ipython",
    "version": 3
   },
   "file_extension": ".py",
   "mimetype": "text/x-python",
   "name": "python",
   "nbconvert_exporter": "python",
   "pygments_lexer": "ipython3",
   "version": "3.12.3"
  }
 },
 "nbformat": 4,
 "nbformat_minor": 5
}
